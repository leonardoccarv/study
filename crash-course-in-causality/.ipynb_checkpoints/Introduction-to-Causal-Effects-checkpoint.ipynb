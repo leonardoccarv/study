{
 "cells": [
  {
   "cell_type": "markdown",
   "id": "fbccffe1-2717-47ca-9d6f-e3005a721fb3",
   "metadata": {},
   "source": [
    "# Introduction to Causal Effects"
   ]
  },
  {
   "cell_type": "markdown",
   "id": "a566db00-5c4f-419e-abed-84359d3ca090",
   "metadata": {},
   "source": [
    "### Notação\n",
    "- em geral **A** refere-se ao tratamento e a notação **A**=0 e **A**=1 diz respeito dar ou não dar uma vacina à um determinado grupo por exemplo\n",
    "- **Y** se refere a varável reposta ou target como por exemplo se o paciente contraiu ou não o virus **Y**=0 ou **Y**=1"
   ]
  },
  {
   "cell_type": "markdown",
   "id": "cfb9b9f2-4fa0-4686-a6d8-86cbdfce5761",
   "metadata": {},
   "source": [
    "### Resultado real vs Resultado confractual\n",
    "\n",
    "- Resultado Real (Observado): O resultado real é o que realmente aconteceu em uma situação específica, levando em consideração todas as condições e intervenções que ocorreram. Ele representa o resultado que foi observado no mundo real.\n",
    "\n",
    "- Exemplo: Suponha que estamos estudando o efeito de um programa de treinamento (A) na produtividade dos funcionários (Y). O resultado real pode ser a produtividade média dos funcionários que participaram do treinamento, conforme observado em um período específico.\n",
    "\n",
    "- Resultado Contrafactual: O resultado contrafactual é uma estimativa do que teria acontecido em uma situação alternativa, onde as condições ou intervenções são diferentes. É uma comparação hipotética do resultado que teria ocorrido se uma intervenção específica não tivesse sido aplicada.\n",
    "\n",
    "- Exemplo: Continuando com o exemplo do programa de treinamento, o resultado contrafactual seria a produtividade média dos mesmos funcionários se eles não tivessem participado do treinamento. É uma estimativa do que teria acontecido no mundo alternativo onde a intervenção (treinamento) não ocorreu.\n",
    "\n",
    "- A diferença entre o resultado real e o resultado contrafactual é crucial para avaliar o impacto causal de uma intervenção. Em muitos casos, não podemos observar diretamente o resultado contrafactual, pois só podemos observar o resultado real na situação em que a intervenção foi aplicada."
   ]
  },
  {
   "cell_type": "markdown",
   "id": "cd7a34be-e3bd-4994-a176-2db2e5cc86fc",
   "metadata": {},
   "source": [
    "### Exemplo\n",
    "\n",
    "- Tratamento com diurético thezide (A=1) e sem o tratamento (A=0) para pacientes com hipertensão. Nosso resultado ou target analisado é se possui (Y=1) ou não (Y=0) pressão arterial sistólica"
   ]
  },
  {
   "cell_type": "markdown",
   "id": "e8da08ac-9c2d-4669-97cb-67ca1be432c6",
   "metadata": {},
   "source": [
    "### Observação\n",
    "\n",
    "- E(Y$^{1}$ - Y$^{0}$) $\\neq$ E(Y|A=1) - E(Y|A=0) em geral o valor esperado de Y$^{1}$ - Y$^{0}$ não é igual ao valor esperado de Y dado A=1 menos o valor esperado de Y dado A=0"
   ]
  },
  {
   "cell_type": "markdown",
   "id": "7b919e1c-13c1-47f6-8693-b6cefbcd54c5",
   "metadata": {},
   "source": [
    "### Other Causal Effects\n",
    "\n",
    "- E(Y$^{1}$/Y$^{0}$): risco relatico causal\n",
    "- E(Y$^{1}$ - Y$^{0}$|A=1): efeito causal dos tratamentos sobre os tratados"
   ]
  },
  {
   "cell_type": "markdown",
   "id": "0326cbfa-6faf-4827-928e-2a65e13ae533",
   "metadata": {},
   "source": [
    "### Perguntas\n",
    "\n",
    "- Qual das alternativas a seguir representa qual teria sido o resultado médio se ninguém tivesse sido tratado?  \n",
    "  Resposta: E(Y$^{0}$)\n",
    "- Só podemos observar um resultado potencial para cada pessoa:  \n",
    "  Resposta: O problema fundamental da inferência causal"
   ]
  },
  {
   "cell_type": "markdown",
   "id": "c04d17c3-cae7-4a3d-91d5-8cd337b45d55",
   "metadata": {},
   "source": [
    "### SUTVA\n",
    "\n",
    "- SUTVA, que significa \"Stable Unit Treatment Value Assumption\" (Assunção de Unidade Estável de Valor de Tratamento), é uma das condições fundamentais na inferência causal. \n",
    "Essa assunção é frequentemente considerada em contextos onde se está tentando fazer inferências causais a partir de experimentos ou estudos observacionais."
   ]
  },
  {
   "cell_type": "markdown",
   "id": "9df17adf-8574-4cd2-852d-64310eb0c6d9",
   "metadata": {},
   "source": [
    "### Condições do SUTVA\n",
    "\n",
    "1- Não Interferência ou independência: Ela estabelece que a atribuição de tratamento a uma unidade não deve afetar o potencial de resposta de outras unidades. Em termos mais simples, as unidades tratadas e não tratadas devem ser independentes em relação aos resultados. A aplicação de um tratamento a uma unidade não deve influenciar as respostas das outras unidades, garantindo assim a validade das comparações causais.  \n",
    "2- Existe uma versão do tratamento: Ela assume que não deve haver variações no tratamento aplicado a uma única unidade ao longo do tempo ou em diferentes circunstâncias."
   ]
  },
  {
   "cell_type": "markdown",
   "id": "87655478-ab82-4d34-a76e-a858b3614827",
   "metadata": {},
   "source": [
    "### Suposições de Consistência\n",
    "\n",
    "- Y = Y$^{a}$ se A=a para todo a. Esse resultado representa uma ligação direta entre os resultados potenciais e resultados observados"
   ]
  },
  {
   "cell_type": "markdown",
   "id": "c48066f4-80ca-4e09-8902-d48c1e212705",
   "metadata": {},
   "source": [
    "### Suposição de Ignorabilidade\n",
    "\n",
    "- Y$^{0}$, Y$^{1}$ $\\|$ A|X, representa a independência entre as variáveis  \n",
    "Exemplo: Seja X uma única variável (idade) e digamos que A=0 representa pessoas mais jovens e A=1 representa pessoas mais velhas. Considere que as pessoas mais velhas tem maior probabilidade de receber o tratamento, etão os targets Y$^{0}$, Y$^{1}$ são dependentes de A. Por outro lado se olharmos uma subpopulaçao de X como so os jovens ou so os mais velhos \n",
    "teriamos agora que o tratamento é ignorável em função da idade"
   ]
  },
  {
   "cell_type": "markdown",
   "id": "ca5cf47f-9ee9-4663-ae72-cec398e5ee95",
   "metadata": {},
   "source": [
    "### Suposição de Positividade\n",
    "\n",
    "- P(A=a|X=x)>0, $\\forall$ a e x. Representa que todos os os pacientes (olhando na perspectiva do exemplo anterior possuem uma probabilidade positiva de receber o tratamento)\n",
    "- É necessário que o modelo seja não determinístico, pois caso contrário podemos ter algum dos pacientes podem não receber o tratamento"
   ]
  },
  {
   "cell_type": "markdown",
   "id": "75307755-1444-4fde-91d6-e8e3fdfab63b",
   "metadata": {},
   "source": [
    "### Dados observados e dados potenciais\n",
    "\n",
    "E(Y|A=a,X=x) todos os dados observados  \n",
    "E(Y|A=a,X=x) = E(Y$^{a}$|A=a,X=x) possui consistência  \n",
    "E(Y$^{a}$|A=a,X=x) = E(Y$^{a}$|X=x) possui ignorabilidade  \n",
    "então temos que E(Y|A=a,X=x) = E(Y$^{a}$|X=x) se as suposições causais forem satisfeitas"
   ]
  },
  {
   "cell_type": "markdown",
   "id": "d435dc80-7f41-42bd-af1b-c03438fb4015",
   "metadata": {},
   "source": [
    "### Startification"
   ]
  },
  {
   "cell_type": "markdown",
   "id": "dcd68524-b89c-48ae-a10e-691b0b00de5a",
   "metadata": {},
   "source": [
    "suponha que exista uma única categoria da variável X, então  \n",
    "E(Y$^{a}$) = $\\Sigma_{x}$ E(Y|A=a,X=x)P(X=x)  \n",
    "É conhecido como padronização"
   ]
  },
  {
   "cell_type": "markdown",
   "id": "2ea7cfb1-fbe0-49ac-ae25-f80fd12f07ee",
   "metadata": {},
   "source": [
    "### Perguntas\n",
    "\n",
    "- Qual suposição também é chamada de suposição de “sem fatores de confusão não medidos”?  \n",
    "  Resposta: ignorabilidade\n",
    "- Qual suposição causal exige que não haja interferência entre unidades?  \n",
    "  Resposta: SUTVA\n",
    "- O Problema Fundamental da Inferência Causal é esse?  \n",
    "  Resposta: só podemos observar um resultado potencial para cada sujeito\n",
    "- Qual das alternativas a seguir representa o efeito causal do tratamento nos tratados?  \n",
    "  Resposta: E(Y$^{1}$|A=1) - E(Y$^{0}$|A=1)\n",
    "- Qual das alternativas a seguir representa o efeito causal médio para a população?  \n",
    "  Resposta: E(Y$^{1}$) - E(Y$^{0}$)\n",
    "- Qual suposição seria violada se a eficácia do tratamento de um indivíduo dependesse do status de tratamento de outros indivíduos?  \n",
    "  Resposta: SUTVA\n",
    "- Qual suposição seria violada se estivéssemos interessados emo efeito causal do tratamento para pessoas entre 40 e 80 anos, mas todas as pessoas com mais de 70 anos receberam o tratamento?  \n",
    "  Resposta: Positividade\n",
    "- Se a suposição de consistência for válida, então o resultado observado para um sujeito tratado é igual ao seu resultado potencial sob esse tratamento.  \n",
    "  Resposta: Verdade\n",
    "- Qual das alternativas a seguir pode ser mais facilmente considerada como uma intervenção?  \n",
    "  Resposta: Mudança de medicação\n",
    "- A atribuição de tratamento é ignorável, dados os fatores de confusão, X, significa:  \n",
    "  Resposta: Dentro dos níveis de X, a atribuição do tratamento é independente dos resultados potenciais.\n",
    "- Calcular médias dentro dos níveis de covariáveis e depois combinar essas estimativas é conhecido como  \n",
    "  Resposta: Padronização"
   ]
  },
  {
   "cell_type": "code",
   "execution_count": null,
   "id": "6b83c936-9435-497c-9e4a-c943ea24c09f",
   "metadata": {},
   "outputs": [],
   "source": [
    "dgh"
   ]
  }
 ],
 "metadata": {
  "kernelspec": {
   "display_name": "R",
   "language": "R",
   "name": "ir"
  },
  "language_info": {
   "codemirror_mode": "r",
   "file_extension": ".r",
   "mimetype": "text/x-r-source",
   "name": "R",
   "pygments_lexer": "r",
   "version": "4.3.1"
  }
 },
 "nbformat": 4,
 "nbformat_minor": 5
}
